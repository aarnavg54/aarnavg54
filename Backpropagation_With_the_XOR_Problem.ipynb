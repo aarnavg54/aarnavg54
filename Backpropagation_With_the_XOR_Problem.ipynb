{
  "nbformat": 4,
  "nbformat_minor": 0,
  "metadata": {
    "colab": {
      "provenance": [],
      "authorship_tag": "ABX9TyOuT2XXDuuWn1DK6fmKftzl",
      "include_colab_link": true
    },
    "kernelspec": {
      "name": "python3",
      "display_name": "Python 3"
    },
    "language_info": {
      "name": "python"
    }
  },
  "cells": [
    {
      "cell_type": "markdown",
      "metadata": {
        "id": "view-in-github",
        "colab_type": "text"
      },
      "source": [
        "<a href=\"https://colab.research.google.com/github/aarnavg54/aarnavg54/blob/main/Backpropagation_With_the_XOR_Problem.ipynb\" target=\"_parent\"><img src=\"https://colab.research.google.com/assets/colab-badge.svg\" alt=\"Open In Colab\"/></a>"
      ]
    },
    {
      "cell_type": "code",
      "execution_count": 1,
      "metadata": {
        "id": "CqmVZzT-jo0P"
      },
      "outputs": [],
      "source": [
        "# This code is a modified version of the XOR problem\n",
        "# The XOR problem implements backpropagation to map an input matrix onto an output matrix.\n",
        "# We create a neural network and train it by using gradient descent\n",
        "\n",
        "import numpy as np\n",
        "\n",
        "# Defining our input\n",
        "X = np.array([[0,0], [0,1], [1,0], [1,1]]).T\n",
        "\n",
        "# Defining our expected output\n",
        "d = np.array([0,0,0,1])\n",
        "\n",
        "# Initializing our layer sizes, learning rate, and iterations\n",
        "inputSize = 2\n",
        "hiddenSize = 2\n",
        "outputSize = 1\n",
        "lr = 0.1\n",
        "epochs = 180000"
      ]
    },
    {
      "cell_type": "code",
      "source": [
        "# Defining out weights and biases\n",
        "w1 = np.random.rand(hiddenSize, inputSize) * 2 - 1\n",
        "b1 = np.random.rand(hiddenSize, 1) * 2 - 1\n",
        "w2 = np.random.rand(outputSize, hiddenSize) * 2 - 1\n",
        "b2 = np.random.rand(outputSize, 1) * 2 - 1"
      ],
      "metadata": {
        "id": "45jWJXG8juqu"
      },
      "execution_count": 2,
      "outputs": []
    },
    {
      "cell_type": "code",
      "source": [
        "# Training the neural network with backpropagation (gradient descent)\n",
        "error_list = []\n",
        "\n",
        "# A loop for iterating through the epochs\n",
        "for epoch in range(epochs):\n",
        "\n",
        "  # Forward propagation; calculating the weighted sum for the hidden layer\n",
        "  z1 = np.dot(w1, X) + b1\n",
        "  a1 = 1 / (1 + np.exp(-z1))\n",
        "\n",
        "  z2 = np.dot(w2, a1) + b2\n",
        "  a2 = 1 / (1 + np.exp(-z2))\n",
        "\n",
        "  # Error calculation: predicted - actual values\n",
        "  error = d - a2\n",
        "  # Derivative of output layer\n",
        "  da2 = error * (a2 * (1 - a2))\n",
        "  # Gradient for output layer\n",
        "  dz2 = da2\n",
        "\n",
        "  # Propagating the hidden layer\n",
        "  da1 = np.dot(w2.T, dz2)  # Gradient for hidden layer\n",
        "  dz1 = da1 * (a1 * (1 - a1))  # Derivative for hidden layer\n",
        "\n",
        "  # Update weights and biases\n",
        "  w2 += lr * np.dot(dz2, a1.T)  # Update weights from hidden to output layer\n",
        "  b2 += lr * np.sum(dz2, axis=1, keepdims=True)  # Update bias for output layer\n",
        "\n",
        "  w1 += lr * np.dot(dz1, X.T)  # Update weights from input to hidden layer\n",
        "  b1 += lr * np.sum(dz1, axis=1, keepdims=True)  # Update bias for hidden layer\n",
        "  if (epoch+1)%10000 == 0:\n",
        "        print(\"Epoch: %d, Average error: %0.05f\"%(epoch, np.average(abs(error))))\n",
        "        error_list.append(np.average(abs(error)))"
      ],
      "metadata": {
        "colab": {
          "base_uri": "https://localhost:8080/"
        },
        "id": "Kr0FW64lj3kS",
        "outputId": "5b7fd521-18fa-46f5-b202-937bed77f72e"
      },
      "execution_count": 4,
      "outputs": [
        {
          "output_type": "stream",
          "name": "stdout",
          "text": [
            "Epoch: 9999, Average error: 0.02523\n",
            "Epoch: 19999, Average error: 0.01604\n",
            "Epoch: 29999, Average error: 0.01254\n",
            "Epoch: 39999, Average error: 0.01058\n",
            "Epoch: 49999, Average error: 0.00930\n",
            "Epoch: 59999, Average error: 0.00838\n",
            "Epoch: 69999, Average error: 0.00768\n",
            "Epoch: 79999, Average error: 0.00713\n",
            "Epoch: 89999, Average error: 0.00668\n",
            "Epoch: 99999, Average error: 0.00630\n",
            "Epoch: 109999, Average error: 0.00597\n",
            "Epoch: 119999, Average error: 0.00570\n",
            "Epoch: 129999, Average error: 0.00545\n",
            "Epoch: 139999, Average error: 0.00523\n",
            "Epoch: 149999, Average error: 0.00504\n",
            "Epoch: 159999, Average error: 0.00487\n",
            "Epoch: 169999, Average error: 0.00471\n",
            "Epoch: 179999, Average error: 0.00456\n"
          ]
        }
      ]
    },
    {
      "cell_type": "code",
      "source": [
        "# Testing the network\n",
        "z1 = np.dot(w1,X) + b1  # Weighted sum for 1st hidden layer\n",
        "a1 = 1 / (1 + np.exp(-z1))  # Applying the Sigmoid Function\n",
        "\n",
        "z2 = np.dot(w2,a1) + b2  # Weighted sum for 2nd hidden layer\n",
        "a2 = 1 / (1 + np.exp(-z2))  # Applying the Sigmoid Function\n",
        "\n",
        "print(f\"Final output after training: {a2}\")\n",
        "print(f\"Ground truth (original matrix): {d}\")\n",
        "print(f\"Error after training: {error}\")\n",
        "\n",
        "# Notice how each output value closely matches the original matrix"
      ],
      "metadata": {
        "colab": {
          "base_uri": "https://localhost:8080/"
        },
        "id": "HXuzlgJ1nSDY",
        "outputId": "87f8eb77-3756-4419-c11a-7dea4137d5b4"
      },
      "execution_count": 11,
      "outputs": [
        {
          "output_type": "stream",
          "name": "stdout",
          "text": [
            "Final output after training: [[1.76503919e-04 4.74584157e-03 4.71542996e-03 9.91379360e-01]]\n",
            "Ground truth (original matrix): [0 0 0 1]\n",
            "Error after training: [[-0.0001765  -0.00474586 -0.00471544  0.00862067]]\n"
          ]
        }
      ]
    },
    {
      "cell_type": "code",
      "source": [
        "# Plotting the error\n",
        "import matplotlib.pyplot as plt\n",
        "\n",
        "plt.plot(error_list)\n",
        "plt.title(\"Error Over Each Epoch\")\n",
        "plt.xlabel(\"Epochs\")\n",
        "plt.ylabel(\"Error\")\n",
        "\n",
        "#We can clearly see that the error decreases with each iteration"
      ],
      "metadata": {
        "colab": {
          "base_uri": "https://localhost:8080/",
          "height": 490
        },
        "id": "Il0Tla4morkn",
        "outputId": "265e736a-7bfb-474a-b202-31fb62df5bd2"
      },
      "execution_count": 12,
      "outputs": [
        {
          "output_type": "execute_result",
          "data": {
            "text/plain": [
              "Text(0, 0.5, 'Error')"
            ]
          },
          "metadata": {},
          "execution_count": 12
        },
        {
          "output_type": "display_data",
          "data": {
            "text/plain": [
              "<Figure size 640x480 with 1 Axes>"
            ],
            "image/png": "[encoded data removed]"
          },
          "metadata": {}
        }
      ]
    }
  ]
}